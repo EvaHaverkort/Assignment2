{
 "cells": [
  {
   "cell_type": "code",
   "execution_count": null,
   "id": "256a06e8-5c19-493f-b597-b21467b7d585",
   "metadata": {},
   "outputs": [],
   "source": [
    "from pyspark.sql import SparkSession\n",
    "from pyspark import SparkConf\n",
    "\n",
    "sparkConf = SparkConf()\n",
    "sparkConf.setMaster(\"spark://spark-master:7077\")\n",
    "sparkConf.setAppName(\"BigqueryExample\")\n",
    "sparkConf.set(\"spark.driver.memory\", \"2g\")\n",
    "sparkConf.set(\"spark.executor.cores\", \"1\")\n",
    "sparkConf.set(\"spark.driver.cores\", \"1\")\n",
    "# create the spark session, which is the entry point to Spark SQL engine.\n",
    "spark = SparkSession.builder.config(conf=sparkConf).getOrCreate()\n",
    "# Load data from BigQuery.\n",
    "df = spark.read \\\n",
    "  .format(\"bigquery\") \\\n",
    "  .load(\"de2023-405212.supermarket_data.sales\")    # project_id.datatset.tablename. Use your project id\n",
    "df.printSchema()\n",
    "df.show(4)\n"
   ]
  },
  {
   "cell_type": "code",
   "execution_count": null,
   "id": "fcc8360b-27dc-41b8-95ac-04de84b4f3fa",
   "metadata": {},
   "outputs": [],
   "source": [
    "# from pyspark.sql.functions import explode, split, concat, col, lit, desc\n",
    "\n",
    "# words = df.where(df.Country == \"France\").select(\n",
    "#             explode(\n",
    "#                 split(col(\"Description\"), \" \")\n",
    "#             ).alias(\"word\")\n",
    "#         )\n",
    "# words.show(10)\n",
    "\n",
    "# ordered_word_count = words.groupby(words.word).count().orderBy(col(\"count\").desc())\n",
    "# ordered_word_count.show(100)\n"
   ]
  },
  {
   "cell_type": "code",
   "execution_count": null,
   "id": "5d6d4994-cdb2-4870-ae2e-0bb64da9a469",
   "metadata": {},
   "outputs": [],
   "source": [
    "# # Use the Cloud Storage bucket for temporary BigQuery export data used by the connector.\n",
    "# bucket = \"de_jads_temp\"  # use your bucket\n",
    "# spark.conf.set('temporaryGcsBucket', bucket)\n",
    "# # Setup hadoop fs configuration for schema gs://\n",
    "# conf = spark.sparkContext._jsc.hadoopConfiguration()\n",
    "# conf.set(\"fs.gs.impl\", \"com.google.cloud.hadoop.fs.gcs.GoogleHadoopFileSystem\")\n",
    "# conf.set(\"fs.AbstractFileSystem.gs.impl\", \"com.google.cloud.hadoop.fs.gcs.GoogleHadoopFS\")\n",
    "# # Saving the data to BigQuery\n",
    "# ordered_word_count.write.format('bigquery') \\\n",
    "#   .option('table', 'de2022-362409.labdataset.wordcounts') \\\n",
    "#   .mode(\"append\") \\\n",
    "#   .save()\n"
   ]
  },
  {
   "cell_type": "code",
   "execution_count": null,
   "id": "aa621131-26cb-48a8-8f6b-6e01934395ae",
   "metadata": {},
   "outputs": [],
   "source": [
    "# Stop the spark context\n",
    "spark.stop()\n"
   ]
  }
 ],
 "metadata": {
  "kernelspec": {
   "display_name": "Python 3 (ipykernel)",
   "language": "python",
   "name": "python3"
  },
  "language_info": {
   "codemirror_mode": {
    "name": "ipython",
    "version": 3
   },
   "file_extension": ".py",
   "mimetype": "text/x-python",
   "name": "python",
   "nbconvert_exporter": "python",
   "pygments_lexer": "ipython3",
   "version": "3.10.6"
  }
 },
 "nbformat": 4,
 "nbformat_minor": 5
}
